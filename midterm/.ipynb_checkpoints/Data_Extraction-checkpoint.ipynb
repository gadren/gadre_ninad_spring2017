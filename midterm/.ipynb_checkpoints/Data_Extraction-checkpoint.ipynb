{
 "cells": [
  {
   "cell_type": "code",
   "execution_count": 72,
   "metadata": {
    "collapsed": false
   },
   "outputs": [
    {
     "name": "stdout",
     "output_type": "stream",
     "text": [
      "680ef4f66438459bb99d0503ff0cf4ad\n"
     ]
    }
   ],
   "source": [
    "import os\n",
    "import requests\n",
    "import csv\n",
    "import json\n",
    "nyt_archive_key = os.getenv('nyt_archive_key')\n",
    "print(nyt_archive_key)"
   ]
  },
  {
   "cell_type": "code",
   "execution_count": 77,
   "metadata": {
    "collapsed": false
   },
   "outputs": [],
   "source": [
    "Y = list(range(2010,2017))\n",
    "M = list(range(1,13))\n",
    "for y in Y:\n",
    "    for m in M:\n",
    "        path = 'C:\\\\Users\\\\ninad\\\\midterm\\\\data\\\\'+str(m)+str(y)+'.json'\n",
    "        pop_request = 'https://api.nytimes.com/svc/archive/v1/'+str(y)+'/'+str(m)+'.json?api-key='+str(nyt_archive_key)\n",
    "        pop = requests.get(pop_request)\n",
    "        with open(path,'w') as outfile:\n",
    "            json.dump(pop.json(), outfile)\n",
    "#pop_request = 'https://api.nytimes.com/svc/archive/v1/y/m.json?api-key='+str(nyt_archive_key)\n",
    "#pop = requests.get(pop_request)\n",
    "#pop_content = pop._content\n",
    "#pop_content = json.loads(pop_content)\n",
    "#print(pop)"
   ]
  },
  {
   "cell_type": "code",
   "execution_count": 70,
   "metadata": {
    "collapsed": false
   },
   "outputs": [],
   "source": [
    "with open('data.json', 'w') as outfile:\n",
    "    json.dump(pop.json(), outfile)"
   ]
  },
  {
   "cell_type": "code",
   "execution_count": null,
   "metadata": {
    "collapsed": true
   },
   "outputs": [],
   "source": []
  }
 ],
 "metadata": {
  "anaconda-cloud": {},
  "kernelspec": {
   "display_name": "Python [conda root]",
   "language": "python",
   "name": "conda-root-py"
  },
  "language_info": {
   "codemirror_mode": {
    "name": "ipython",
    "version": 3
   },
   "file_extension": ".py",
   "mimetype": "text/x-python",
   "name": "python",
   "nbconvert_exporter": "python",
   "pygments_lexer": "ipython3",
   "version": "3.5.2"
  }
 },
 "nbformat": 4,
 "nbformat_minor": 1
}
