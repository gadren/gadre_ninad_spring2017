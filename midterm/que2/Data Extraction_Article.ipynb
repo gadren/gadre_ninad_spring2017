{
 "cells": [
  {
   "cell_type": "code",
   "execution_count": 10,
   "metadata": {
    "collapsed": false
   },
   "outputs": [
    {
     "name": "stdout",
     "output_type": "stream",
     "text": [
      "2836af7ecb9a410a8a70f0333fdf46c0\n"
     ]
    }
   ],
   "source": [
    "import os\n",
    "import requests\n",
    "import csv\n",
    "import json\n",
    "nyt_article_key = os.getenv('nyt_article_key')\n",
    "print(nyt_article_key)"
   ]
  },
  {
   "cell_type": "code",
   "execution_count": 11,
   "metadata": {
    "collapsed": false
   },
   "outputs": [],
   "source": [
    "bdate = 20151231\n",
    "edate = 20150101\n",
    "#page = 2\n",
    "for page in range(101):\n",
    "    path = 'C:\\\\Users\\\\ninad\\\\midterm\\\\data\\\\Article\\\\2015\\\\'+str(page)+str(bdate)+str(edate)+'.json'\n",
    "    pop_request = 'http://api.nytimes.com/svc/search/v2/articlesearch.json?begin_date='+str(bdate)+'&end_date='+str(edate)+'&page='+str(page)+'&api-key='+str(nyt_article_key)\n",
    "    pop = requests.get(pop_request)\n",
    "    with open(path,'w') as outfile:\n",
    "        json.dump(pop.json(), outfile)"
   ]
  },
  {
   "cell_type": "code",
   "execution_count": null,
   "metadata": {
    "collapsed": true
   },
   "outputs": [],
   "source": []
  }
 ],
 "metadata": {
  "anaconda-cloud": {},
  "kernelspec": {
   "display_name": "Python [default]",
   "language": "python",
   "name": "python3"
  },
  "language_info": {
   "codemirror_mode": {
    "name": "ipython",
    "version": 3
   },
   "file_extension": ".py",
   "mimetype": "text/x-python",
   "name": "python",
   "nbconvert_exporter": "python",
   "pygments_lexer": "ipython3",
   "version": "3.5.2"
  }
 },
 "nbformat": 4,
 "nbformat_minor": 1
}
