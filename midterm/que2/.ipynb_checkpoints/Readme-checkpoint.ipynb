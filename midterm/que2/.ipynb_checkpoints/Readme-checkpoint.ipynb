{
 "cells": [
  {
   "cell_type": "markdown",
   "metadata": {},
   "source": [
    "#Question 1\n",
    "#Analysis 1 : \n",
    "This Analysis will go through all the emails deleted by the Kenneth Lay, who was one of the main convicts of Enron Scandal and alos the CEO and chairman of Enron Corporation. It is said that a lot of people had emailed him regarding company's poor financial state but still he supposedly ignored them\n",
    "\n",
    "\n",
    "#Analysis 2:\n",
    "Kenneth Lay, Jeffrey Skilling, John forney and David Delainey were the main convicts behind the Enron Scandal. In this analysis we would go through all the folders of all 4 of them and find out top 10 people from whom they got emails and top 10 people to whom they emailed\n",
    "\n",
    "\n",
    "Analysis 3:\n",
    "In this analysis we will try to analyze the sent emails of Kenneth Lay, Jeffrey Skilling, John forney, Greg Whalley, Vincent Kaminiski and David Delainey and try to see who all they sent emails to. And analyze count of words that were used between Jeffrey Skilling and his assistant Sherri Sera From the graph it is clearly visible that investigation, energy, corruption etc were the words used in their email conversations\n",
    "\n",
    "\n",
    "Question 2:\n",
    "Analysis 1:\n",
    "In this Analysis we will loop through all the json files having articles ranging from 2000 to 2017 and will take out the count on the type of news that were published in New York times\n",
    "\n",
    "Analysis 2:\n",
    "In this Analysis we will try to find out amongest the big 4 of mens tennis Novak Djokovic, Roger Federer, Rafael Nadal and Andy Murray who made the headlines the most in the year 2014 and 2015\n",
    "\n",
    "Analysis 3:\n",
    "In this analysis we will analyze which news was seen and read the most by the number of hits it got"
   ]
  }
 ],
 "metadata": {
  "kernelspec": {
   "display_name": "Python [conda root]",
   "language": "python",
   "name": "conda-root-py"
  },
  "language_info": {
   "codemirror_mode": {
    "name": "ipython",
    "version": 3
   },
   "file_extension": ".py",
   "mimetype": "text/x-python",
   "name": "python",
   "nbconvert_exporter": "python",
   "pygments_lexer": "ipython3",
   "version": "3.5.2"
  }
 },
 "nbformat": 4,
 "nbformat_minor": 1
}
