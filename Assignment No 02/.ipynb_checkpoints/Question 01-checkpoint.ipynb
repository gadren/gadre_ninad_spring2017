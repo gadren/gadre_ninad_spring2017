{
 "cells": [
  {
   "cell_type": "markdown",
   "metadata": {
    "collapsed": true
   },
   "source": [
    "# Question 1\n",
    "Learn and understand Zipf’s Law.\n",
    "Pick any file (or files) in NLTK package.\n",
    "Prove if Zipf’s Law works in Natural Language or not. "
   ]
  },
  {
   "cell_type": "code",
   "execution_count": 24,
   "metadata": {
    "collapsed": false
   },
   "outputs": [],
   "source": [
    "import nltk\n",
    "import glob #File IO\n",
    "import string #Used for String.Puncuation\n",
    "import csv\n",
    "import numpy as np #for graphical representation\n",
    "import matplotlib.pyplot as plt #for graphical representation"
   ]
  },
  {
   "cell_type": "code",
   "execution_count": 25,
   "metadata": {
    "collapsed": false
   },
   "outputs": [
    {
     "name": "stdout",
     "output_type": "stream",
     "text": [
      "['[emma', 'by', 'jane', 'austen', '1816]', 'volume', 'i', 'chapter', 'i', 'emma', 'woodhouse,', 'handsome,', 'clever,', 'and', 'rich,', 'with', 'a', 'comfortable', 'home', 'and', 'happy', 'disposition,', 'seemed', 'to', 'unite', 'some', 'of', 'the', 'best', 'blessings', 'of', 'existence;', 'and', 'had', 'lived', 'nearly', 'twenty-one', 'years', 'in', 'the', 'world', 'with', 'very', 'little', 'to', 'distress', 'or', 'vex', 'her.', 'she', 'was', 'the', 'youngest', 'of', 'the', 'two', 'daughters', 'of', 'a', 'most', 'affectionate,', 'indulgent', 'father;', 'and', 'had,', 'in', 'consequence', 'of', 'her', \"sister's\", 'marriage,', 'been', 'mistress', 'of', 'his', 'house', 'from', 'a', 'very', 'early', 'period.', 'her', 'mother', 'had', 'died', 'too', 'long', 'ago', 'for', 'her', 'to', 'have', 'more', 'than', 'an', 'indistinct', 'remembrance', 'of', 'her', 'caresses;']\n"
     ]
    }
   ],
   "source": [
    "text_data = list();\n",
    "for filename in glob.glob(\"C:\\\\Users\\\\ninad\\\\Roaming\\\\nltk_data\\\\corpora\\\\gutenberg\\\\*.txt\"):\n",
    "    f = open(filename,errors=\"Error01\")\n",
    "    text_data += [word.lower() for line in f for word in line.rstrip().split()]\n",
    "print(text_data[:100])"
   ]
  },
  {
   "cell_type": "code",
   "execution_count": 28,
   "metadata": {
    "collapsed": true
   },
   "outputs": [],
   "source": [
    "def removePuncuation(word):\n",
    "    removP = str.maketrans('', '', string.punctuation)\n",
    "    return word.translate(removP)"
   ]
  },
  {
   "cell_type": "code",
   "execution_count": 29,
   "metadata": {
    "collapsed": false
   },
   "outputs": [
    {
     "name": "stdout",
     "output_type": "stream",
     "text": [
      "2134514\n"
     ]
    }
   ],
   "source": [
    "text_data = [removePuncuation(word) for word in text_data]\n",
    "text_data = [word for word in text_data if len(word)>0]\n",
    "print(len(text_data))"
   ]
  },
  {
   "cell_type": "code",
   "execution_count": 31,
   "metadata": {
    "collapsed": false
   },
   "outputs": [
    {
     "name": "stdout",
     "output_type": "stream",
     "text": [
      "[('the', 133211), ('and', 94787), ('of', 71173), ('to', 47591), ('a', 33573), ('in', 33391), ('i', 28593), ('that', 28241), ('he', 25408), ('it', 21537), ('his', 21375), ('for', 19396), ('was', 18647), ('with', 17560), ('not', 17281), ('is', 16343), ('be', 16056), ('you', 15878), ('as', 14464), ('but', 13558)]\n"
     ]
    }
   ],
   "source": [
    "fdist = nltk.FreqDist(text_data)\n",
    "flist = fdist.most_common()\n",
    "print(flist[:20])"
   ]
  },
  {
   "cell_type": "code",
   "execution_count": 32,
   "metadata": {
    "collapsed": true
   },
   "outputs": [],
   "source": [
    "csvFile = open('WordFreq.csv', 'w')\n",
    "writer = csv.writer(csvFile)\n",
    "writer.writerow(['Word', 'Rank', 'Frequency']) #header\n",
    "for i in range(len(flist)):\n",
    "    addRank = lambda flist,i: [flist[i][0], i+1, flist[i][1]] #lambda \n",
    "    writer.writerow(addRank(flist,i))\n",
    "csvFile.close()"
   ]
  },
  {
   "cell_type": "code",
   "execution_count": 33,
   "metadata": {
    "collapsed": false
   },
   "outputs": [
    {
     "data": {
      "image/png": "[encoded data removed]",
      "text/plain": [
       "<matplotlib.figure.Figure at 0x20781a66940>"
      ]
     },
     "metadata": {},
     "output_type": "display_data"
    }
   ],
   "source": [
    "\n",
    "data = np.genfromtxt('WordFreq.csv', delimiter=',', skip_header=1, names=['Word', 'Rank', 'Frequency'])\n",
    "\n",
    "plt.loglog(data['Rank'],data['Frequency'], basex=10, basey=10)\n",
    "plt.xlabel(\"Rank of Word\")\n",
    "plt.ylabel(\"Frequency of Word\")\n",
    "plt.show()"
   ]
  },
  {
   "cell_type": "code",
   "execution_count": null,
   "metadata": {
    "collapsed": true
   },
   "outputs": [],
   "source": []
  }
 ],
 "metadata": {
  "anaconda-cloud": {},
  "kernelspec": {
   "display_name": "Python [conda root]",
   "language": "python",
   "name": "conda-root-py"
  },
  "language_info": {
   "codemirror_mode": {
    "name": "ipython",
    "version": 3
   },
   "file_extension": ".py",
   "mimetype": "text/x-python",
   "name": "python",
   "nbconvert_exporter": "python",
   "pygments_lexer": "ipython3",
   "version": "3.5.2"
  }
 },
 "nbformat": 4,
 "nbformat_minor": 1
}
