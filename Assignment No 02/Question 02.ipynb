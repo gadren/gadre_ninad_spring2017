{
 "cells": [
  {
   "cell_type": "markdown",
   "metadata": {},
   "source": [
    "# Question 2\n",
    "Part 1\n",
    "Read all the json files in the folder called Data.\n",
    " There are three categories of json files in this folder. They are identified by the key\n",
    "called “term” in each of the json file.\n",
    " Create a folder structure to read all these json files and store them into these separate\n",
    "folders. You are expected to create a hierarchy of folder structure.\n",
    " Example:\n",
    " You can place all restaurants json files in a particular country (say Australia) in the\n",
    "same folder. How you group the json files and create a folder structure is your choice.\n",
    "Your task is to identify criteria by which you can group all these json files and store\n",
    "them.\n",
    " (You could use these keys to create hierarchy and store json files: Country, city,\n",
    "categories)"
   ]
  },
  {
   "cell_type": "code",
   "execution_count": 2,
   "metadata": {
    "collapsed": true
   },
   "outputs": [],
   "source": [
    "import shutil\n",
    "import os\n",
    "import json\n",
    "import glob\n",
    "import csv"
   ]
  },
  {
   "cell_type": "code",
   "execution_count": 4,
   "metadata": {
    "collapsed": false
   },
   "outputs": [
    {
     "name": "stdout",
     "output_type": "stream",
     "text": [
      ".\\Data\\\n"
     ]
    }
   ],
   "source": [
    "root = os.getcwd()\n",
    "rootPathjson = os.path.join('.', 'Data', '')\n",
    "filenames = [path_json for path_json in os.listdir(rootPathjson) if path_json.endswith('.json')]"
   ]
  },
  {
   "cell_type": "code",
   "execution_count": 102,
   "metadata": {
    "collapsed": false
   },
   "outputs": [],
   "source": [
    "for f in filenames:\n",
    "    old_file_path = os.path.join(rootPathjson, f)\n",
    "    with open(old_file_path) as json_file:\n",
    "        # Load the content of the file       \n",
    "        json_content = json.load(json_file)\n",
    "        # Select country from json content\n",
    "        country = json_content['location']['country']\n",
    "        # Select city from json content       \n",
    "        city = json_content['location']['city']\n",
    "        # Select termfrom json content        \n",
    "        term = json_content['term']\n",
    "          \n",
    "        # Create a new directory path as mentioned\n",
    "        new_dir_path = os.path.join('.', 'Data Processed', country, city, term, '')\n",
    "        \n",
    "        os.makedirs(new_dir_path, exist_ok=True)\n",
    "        \n",
    "        new_file_path = os.path.join(new_dir_path, f)\n",
    "                \n",
    "        # Preserve the contents of the Data folder by copying rather than moving\n",
    "        shutil.copy2(old_file_path, new_file_path)"
   ]
  },
  {
   "cell_type": "markdown",
   "metadata": {},
   "source": [
    "# Part 2\n",
    "Part 2\n",
    "Read all the json files in the folder called Data.\n",
    " Read only the json files which contain the key called “restaurants”\n",
    " Each (or most of the json files) contain a key called “open” which contains the details\n",
    "of the operation (timings) of the restaurants. For each json file, read the timings of the\n",
    "restaurants.\n",
    " Data of the operation timings of the restaurants is present for each day of the week. I\n",
    "want you to extract each of this data and write it in an excel sheet."
   ]
  },
  {
   "cell_type": "code",
   "execution_count": 121,
   "metadata": {
    "collapsed": false
   },
   "outputs": [],
   "source": [
    "information_file = []\n",
    "for f in filenames:\n",
    "    file_path = os.path.join(rootPathjson, f)\n",
    "    with open(file_path) as json_file:\n",
    "        # Load the content of the file.        \n",
    "        json_content = json.load(json_file)\n",
    "        \n",
    "        country = json_content['location']['country']\n",
    "        city = json_content['location']['city']\n",
    "        term = json_content['term']\n",
    "        if term == 'restaurants':\n",
    "            information_file.append(file_path)"
   ]
  },
  {
   "cell_type": "code",
   "execution_count": 122,
   "metadata": {
    "collapsed": true
   },
   "outputs": [],
   "source": [
    "# json_content is the file content, created using json.load(file)\n",
    "# row_list is the list of rows to which a row will be added; later used to create a dataframe\n",
    "# exception_list is the list of files that couldn't be processed\n",
    "def process_restaurant_file_json(json_content, row_list, exception_list):\n",
    "    name = json_content['name']\n",
    "    city = json_content['location']['city']\n",
    "    country = json_content['location']['country']        \n",
    "\n",
    "    if 'hours' in json_content:\n",
    "        for hours in json_content['hours']:\n",
    "            if hours['hours_type'] == 'REGULAR':\n",
    "                for h in hours['open']:\n",
    "                    day = str(h['day'])\n",
    "                    start = str(h['start'])\n",
    "                    end = str(h['end'])\n",
    "          \n",
    "                    start_hour = start[0:2]\n",
    "                    start_minutes = start[2:4]\n",
    "\n",
    "                    end_hour = end[0:2]\n",
    "                    end_minutes = end[2:4]\n",
    "\n",
    "                    if (len(start_hour) != 2) or (len(start_minutes) != 2) or (len(end_hour) != 2) or (len(end_minutes) != 2):\n",
    "                        print(start_hour + ' ' + start_minutes + ' ' + end_hour + ' ' + end_minutes)\n",
    "                    row = {'Name of restaurant':name, 'City':city, 'Country Code':country, \n",
    "                           'Day of week':day, 'Start time hour':start_hour, 'Start time minute':start_minutes, \n",
    "                           'End time hour':end_hour, 'End time minute':end_minutes}\n",
    "                    row_list.append(row)\n",
    "            else:\n",
    "                print(name + ' has hours_type of ' + hours['hours_type'])\n",
    "    else:\n",
    "        # Save the exceptions for separate examination.\n",
    "        # The files in the exception list have no 'hours'\n",
    "        exception_list.append(rf)\n",
    "        \n",
    "    return row_list, exception_list"
   ]
  },
  {
   "cell_type": "code",
   "execution_count": 123,
   "metadata": {
    "collapsed": false
   },
   "outputs": [],
   "source": [
    "exceptions = []\n",
    "row_list = []\n",
    "\n",
    "for restohrs in information_file:\n",
    "    with open(restohrs) as json_file:\n",
    "        # Load the content of the file.        \n",
    "        json_content = json.load(json_file)\n",
    "        \n",
    "        # Process the JSON content.\n",
    "        row_list, exceptions = process_restaurant_file_json(json_content, row_list, exceptions)\n",
    "\n",
    "# Create the dataframe from the list of rows.\n",
    "df = pd.DataFrame(row_list, columns=['Name of restaurant', 'City', 'Country Code', 'Day of week', \n",
    "                           'Start time hour', 'Start time minute', 'End time hour', 'End time minute'])\n",
    "\n",
    "# Write the CSV file.\n",
    "df.to_csv(os.path.join('.', 'restoHrs.csv'), index=False)"
   ]
  },
  {
   "cell_type": "code",
   "execution_count": null,
   "metadata": {
    "collapsed": true
   },
   "outputs": [],
   "source": []
  }
 ],
 "metadata": {
  "anaconda-cloud": {},
  "kernelspec": {
   "display_name": "Python [conda root]",
   "language": "python",
   "name": "conda-root-py"
  },
  "language_info": {
   "codemirror_mode": {
    "name": "ipython",
    "version": 3
   },
   "file_extension": ".py",
   "mimetype": "text/x-python",
   "name": "python",
   "nbconvert_exporter": "python",
   "pygments_lexer": "ipython3",
   "version": "3.5.2"
  }
 },
 "nbformat": 4,
 "nbformat_minor": 1
}
