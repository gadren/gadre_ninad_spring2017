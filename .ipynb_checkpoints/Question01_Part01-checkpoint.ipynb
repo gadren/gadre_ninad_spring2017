{
 "cells": [
  {
   "cell_type": "code",
   "execution_count": 14,
   "metadata": {
    "collapsed": true
   },
   "outputs": [],
   "source": [
    "import os"
   ]
  },
  {
   "cell_type": "code",
   "execution_count": 15,
   "metadata": {
    "collapsed": false
   },
   "outputs": [
    {
     "data": {
      "text/plain": [
       "'C:\\\\Users\\\\ninad\\\\LocalRepository\\\\gadre_ninad_spring2017'"
      ]
     },
     "execution_count": 15,
     "metadata": {},
     "output_type": "execute_result"
    }
   ],
   "source": [
    "path = os.getcwd()\n",
    "path"
   ]
  },
  {
   "cell_type": "code",
   "execution_count": 17,
   "metadata": {
    "collapsed": false
   },
   "outputs": [],
   "source": [
    "#rootPath = os.path.join(path,'\\\\Assignment No 03\\\\data')\n",
    "rootPath = 'C:\\\\Users\\\\ninad\\\\LocalRepository\\\\gadre_ninad_spring2017\\\\Assignment No 03\\\\data\\\\vehicle_collisions.csv'"
   ]
  },
  {
   "cell_type": "code",
   "execution_count": 35,
   "metadata": {
    "collapsed": false
   },
   "outputs": [],
   "source": [
    "import pandas as pd\n",
    "data = pd.read_csv(rootPath)"
   ]
  },
  {
   "cell_type": "code",
   "execution_count": 36,
   "metadata": {
    "collapsed": false
   },
   "outputs": [
    {
     "name": "stdout",
     "output_type": "stream",
     "text": [
      "Index(['UNIQUE KEY', 'DATE', 'TIME', 'BOROUGH', 'ZIP CODE', 'LATITUDE',\n",
      "       'LONGITUDE', 'LOCATION', 'ON STREET NAME', 'CROSS STREET NAME',\n",
      "       'OFF STREET NAME', 'PERSONS INJURED', 'PERSONS KILLED',\n",
      "       'PEDESTRIANS INJURED', 'PEDESTRIANS KILLED', 'CYCLISTS INJURED',\n",
      "       'CYCLISTS KILLED', 'MOTORISTS INJURED', 'MOTORISTS KILLED',\n",
      "       'VEHICLE 1 TYPE', 'VEHICLE 2 TYPE', 'VEHICLE 3 TYPE', 'VEHICLE 4 TYPE',\n",
      "       'VEHICLE 5 TYPE', 'VEHICLE 1 FACTOR', 'VEHICLE 2 FACTOR',\n",
      "       'VEHICLE 3 FACTOR', 'VEHICLE 4 FACTOR', 'VEHICLE 5 FACTOR'],\n",
      "      dtype='object')\n"
     ]
    }
   ],
   "source": [
    "print(data.columns)"
   ]
  },
  {
   "cell_type": "code",
   "execution_count": 23,
   "metadata": {
    "collapsed": false
   },
   "outputs": [
    {
     "data": {
      "text/plain": [
       "UNIQUE KEY             477732\n",
       "DATE                   477732\n",
       "TIME                   477732\n",
       "BOROUGH                338390\n",
       "ZIP CODE               338329\n",
       "LATITUDE               356600\n",
       "LONGITUDE              356600\n",
       "LOCATION               356600\n",
       "ON STREET NAME         364552\n",
       "CROSS STREET NAME      335574\n",
       "OFF STREET NAME         58511\n",
       "PERSONS INJURED        477732\n",
       "PERSONS KILLED         477732\n",
       "PEDESTRIANS INJURED    477732\n",
       "PEDESTRIANS KILLED     477732\n",
       "CYCLISTS INJURED       477732\n",
       "CYCLISTS KILLED        477732\n",
       "MOTORISTS INJURED      477732\n",
       "MOTORISTS KILLED       477732\n",
       "VEHICLE 1 TYPE         473777\n",
       "VEHICLE 2 TYPE         396795\n",
       "VEHICLE 3 TYPE          30264\n",
       "VEHICLE 4 TYPE           6831\n",
       "VEHICLE 5 TYPE           1683\n",
       "VEHICLE 1 FACTOR       474483\n",
       "VEHICLE 2 FACTOR       415401\n",
       "VEHICLE 3 FACTOR        31638\n",
       "VEHICLE 4 FACTOR         7232\n",
       "VEHICLE 5 FACTOR         1762\n",
       "dtype: int64"
      ]
     },
     "execution_count": 23,
     "metadata": {},
     "output_type": "execute_result"
    }
   ],
   "source": [
    "data.count()"
   ]
  },
  {
   "cell_type": "code",
   "execution_count": 62,
   "metadata": {
    "collapsed": false
   },
   "outputs": [],
   "source": [
    "datedata = data.groupby(data['DATE'] == 2016)"
   ]
  },
  {
   "cell_type": "code",
   "execution_count": 63,
   "metadata": {
    "collapsed": false
   },
   "outputs": [
    {
     "ename": "KeyError",
     "evalue": "'Column not found: False'",
     "output_type": "error",
     "traceback": [
      "\u001b[0;31m---------------------------------------------------------------------------\u001b[0m",
      "\u001b[0;31mKeyError\u001b[0m                                  Traceback (most recent call last)",
      "\u001b[0;32m<ipython-input-63-cfb727e55a09>\u001b[0m in \u001b[0;36m<module>\u001b[0;34m()\u001b[0m\n\u001b[0;32m----> 1\u001b[0;31m \u001b[0mmanhat\u001b[0m \u001b[1;33m=\u001b[0m \u001b[0mdatedata\u001b[0m\u001b[1;33m[\u001b[0m\u001b[0mdatedata\u001b[0m\u001b[1;33m[\u001b[0m\u001b[1;34m'BOROUGH'\u001b[0m\u001b[1;33m]\u001b[0m\u001b[1;33m==\u001b[0m\u001b[1;34m'MANHATTAN'\u001b[0m\u001b[1;33m]\u001b[0m\u001b[1;33m\u001b[0m\u001b[0m\n\u001b[0m\u001b[1;32m      2\u001b[0m \u001b[0mmanhat\u001b[0m\u001b[1;33m\u001b[0m\u001b[0m\n",
      "\u001b[0;32mC:\\Users\\ninad\\Anaconda3\\lib\\site-packages\\pandas\\core\\base.py\u001b[0m in \u001b[0;36m__getitem__\u001b[0;34m(self, key)\u001b[0m\n\u001b[1;32m    345\u001b[0m         \u001b[1;32melse\u001b[0m\u001b[1;33m:\u001b[0m\u001b[1;33m\u001b[0m\u001b[0m\n\u001b[1;32m    346\u001b[0m             \u001b[1;32mif\u001b[0m \u001b[0mkey\u001b[0m \u001b[1;32mnot\u001b[0m \u001b[1;32min\u001b[0m \u001b[0mself\u001b[0m\u001b[1;33m.\u001b[0m\u001b[0mobj\u001b[0m\u001b[1;33m:\u001b[0m\u001b[1;33m\u001b[0m\u001b[0m\n\u001b[0;32m--> 347\u001b[0;31m                 \u001b[1;32mraise\u001b[0m \u001b[0mKeyError\u001b[0m\u001b[1;33m(\u001b[0m\u001b[1;34m\"Column not found: %s\"\u001b[0m \u001b[1;33m%\u001b[0m \u001b[0mkey\u001b[0m\u001b[1;33m)\u001b[0m\u001b[1;33m\u001b[0m\u001b[0m\n\u001b[0m\u001b[1;32m    348\u001b[0m             \u001b[1;32mreturn\u001b[0m \u001b[0mself\u001b[0m\u001b[1;33m.\u001b[0m\u001b[0m_gotitem\u001b[0m\u001b[1;33m(\u001b[0m\u001b[0mkey\u001b[0m\u001b[1;33m,\u001b[0m \u001b[0mndim\u001b[0m\u001b[1;33m=\u001b[0m\u001b[1;36m1\u001b[0m\u001b[1;33m)\u001b[0m\u001b[1;33m\u001b[0m\u001b[0m\n\u001b[1;32m    349\u001b[0m \u001b[1;33m\u001b[0m\u001b[0m\n",
      "\u001b[0;31mKeyError\u001b[0m: 'Column not found: False'"
     ]
    }
   ],
   "source": [
    "manhat = datedata[datedata['BOROUGH']=='MANHATTAN']\n",
    "manhat"
   ]
  },
  {
   "cell_type": "code",
   "execution_count": 60,
   "metadata": {
    "collapsed": false
   },
   "outputs": [
    {
     "data": {
      "text/html": [
       "<div>\n",
       "<table border=\"1\" class=\"dataframe\">\n",
       "  <thead>\n",
       "    <tr style=\"text-align: right;\">\n",
       "      <th></th>\n",
       "      <th>UNIQUE KEY</th>\n",
       "      <th>DATE</th>\n",
       "      <th>TIME</th>\n",
       "      <th>BOROUGH</th>\n",
       "      <th>ZIP CODE</th>\n",
       "      <th>LATITUDE</th>\n",
       "      <th>LONGITUDE</th>\n",
       "      <th>LOCATION</th>\n",
       "      <th>ON STREET NAME</th>\n",
       "      <th>CROSS STREET NAME</th>\n",
       "      <th>...</th>\n",
       "      <th>VEHICLE 1 TYPE</th>\n",
       "      <th>VEHICLE 2 TYPE</th>\n",
       "      <th>VEHICLE 3 TYPE</th>\n",
       "      <th>VEHICLE 4 TYPE</th>\n",
       "      <th>VEHICLE 5 TYPE</th>\n",
       "      <th>VEHICLE 1 FACTOR</th>\n",
       "      <th>VEHICLE 2 FACTOR</th>\n",
       "      <th>VEHICLE 3 FACTOR</th>\n",
       "      <th>VEHICLE 4 FACTOR</th>\n",
       "      <th>VEHICLE 5 FACTOR</th>\n",
       "    </tr>\n",
       "    <tr>\n",
       "      <th>DATE</th>\n",
       "      <th></th>\n",
       "      <th></th>\n",
       "      <th></th>\n",
       "      <th></th>\n",
       "      <th></th>\n",
       "      <th></th>\n",
       "      <th></th>\n",
       "      <th></th>\n",
       "      <th></th>\n",
       "      <th></th>\n",
       "      <th></th>\n",
       "      <th></th>\n",
       "      <th></th>\n",
       "      <th></th>\n",
       "      <th></th>\n",
       "      <th></th>\n",
       "      <th></th>\n",
       "      <th></th>\n",
       "      <th></th>\n",
       "      <th></th>\n",
       "      <th></th>\n",
       "    </tr>\n",
       "  </thead>\n",
       "  <tbody>\n",
       "    <tr>\n",
       "      <th>False</th>\n",
       "      <td>83602</td>\n",
       "      <td>83602</td>\n",
       "      <td>83602</td>\n",
       "      <td>83602</td>\n",
       "      <td>83600</td>\n",
       "      <td>77163</td>\n",
       "      <td>77163</td>\n",
       "      <td>77163</td>\n",
       "      <td>73613</td>\n",
       "      <td>73614</td>\n",
       "      <td>...</td>\n",
       "      <td>82801</td>\n",
       "      <td>69483</td>\n",
       "      <td>2525</td>\n",
       "      <td>501</td>\n",
       "      <td>129</td>\n",
       "      <td>82737</td>\n",
       "      <td>71940</td>\n",
       "      <td>2661</td>\n",
       "      <td>544</td>\n",
       "      <td>145</td>\n",
       "    </tr>\n",
       "  </tbody>\n",
       "</table>\n",
       "<p>1 rows × 29 columns</p>\n",
       "</div>"
      ],
      "text/plain": [
       "       UNIQUE KEY   DATE   TIME  BOROUGH  ZIP CODE  LATITUDE  LONGITUDE  \\\n",
       "DATE                                                                      \n",
       "False       83602  83602  83602    83602     83600     77163      77163   \n",
       "\n",
       "       LOCATION  ON STREET NAME  CROSS STREET NAME        ...         \\\n",
       "DATE                                                      ...          \n",
       "False     77163           73613              73614        ...          \n",
       "\n",
       "       VEHICLE 1 TYPE  VEHICLE 2 TYPE  VEHICLE 3 TYPE  VEHICLE 4 TYPE  \\\n",
       "DATE                                                                    \n",
       "False           82801           69483            2525             501   \n",
       "\n",
       "       VEHICLE 5 TYPE  VEHICLE 1 FACTOR  VEHICLE 2 FACTOR  VEHICLE 3 FACTOR  \\\n",
       "DATE                                                                          \n",
       "False             129             82737             71940              2661   \n",
       "\n",
       "       VEHICLE 4 FACTOR  VEHICLE 5 FACTOR  \n",
       "DATE                                       \n",
       "False               544               145  \n",
       "\n",
       "[1 rows x 29 columns]"
      ]
     },
     "execution_count": 60,
     "metadata": {},
     "output_type": "execute_result"
    }
   ],
   "source": [
    "g = manhat.groupby(manhat['DATE']).count()\n",
    "g"
   ]
  },
  {
   "cell_type": "code",
   "execution_count": 64,
   "metadata": {
    "collapsed": true
   },
   "outputs": [],
   "source": [
    "import string\n",
    "import csv, sys\n",
    "from pandas import Series, DataFrame\n",
    "import pandas as pd\n",
    "import os\n",
    "import glob"
   ]
  },
  {
   "cell_type": "code",
   "execution_count": 66,
   "metadata": {
    "collapsed": false
   },
   "outputs": [
    {
     "data": {
      "text/plain": [
       "'C:\\\\Users\\\\ninad\\\\LocalRepository\\\\gadre_ninad_spring2017\\\\Assignment No 03\\\\data'"
      ]
     },
     "execution_count": 66,
     "metadata": {},
     "output_type": "execute_result"
    }
   ],
   "source": [
    "directory = os.path.dirname(os.getcwd()) \n",
    "path =  directory + '\\\\gadre_ninad_spring2017\\\\Assignment No 03\\\\data'\n",
    "path"
   ]
  },
  {
   "cell_type": "code",
   "execution_count": 68,
   "metadata": {
    "collapsed": false
   },
   "outputs": [],
   "source": [
    "Calender ={'1':'JANUARY','2':'FEBRUARY','3':'MARCH','4':'APRIL','5':'MAY','6':'JUNE','7':'JULY','8':'AUGUST','9':'SEPTEMBER','10':'OCTOBER','11':'NOVEMBER','12':'DECEMBER'}\n",
    "\n",
    "Calender = sorted(Calender.items(), key=lambda x: x[1], reverse=True)[:]"
   ]
  },
  {
   "cell_type": "code",
   "execution_count": 73,
   "metadata": {
    "collapsed": true
   },
   "outputs": [],
   "source": [
    "M={}\n",
    "D={}\n",
    "for subdir, dirs, files in os.walk(path):\n",
    "    for file in files:\n",
    "        if file == 'vehicle_collisions.csv':\n",
    "            reqpath = os.path.join(subdir,file)\n",
    "            with open(reqpath, newline='') as f:\n",
    "                reader = csv.reader(f)\n",
    "                try:\n",
    "                    for record in reader:\n",
    "                        d = record[1].split('/')[0]\n",
    "                        if d not in D:\n",
    "                            D[d] =1\n",
    "                        else:\n",
    "                            D[d] +=1\n",
    "                        if record[3] == 'MANHATTAN':\n",
    "                            if d not in M:\n",
    "                                M[d] =1\n",
    "                            else:\n",
    "                                M[d] +=1\n",
    "                        #print(d,record[3],'\\n')                        \n",
    "                except csv.Error as e:\n",
    "                    sys.exit('file {}, line {}: {}'.format(filename, reader.line_num, e))"
   ]
  },
  {
   "cell_type": "code",
   "execution_count": 74,
   "metadata": {
    "collapsed": true
   },
   "outputs": [],
   "source": [
    "del D['DATE']\n",
    "D = sorted(D.items(), key=lambda x: x[1], reverse=True)[:]\n",
    "M = sorted(M.items(), key=lambda x: x[1], reverse=True)[:]"
   ]
  },
  {
   "cell_type": "code",
   "execution_count": 75,
   "metadata": {
    "collapsed": false
   },
   "outputs": [
    {
     "name": "stdout",
     "output_type": "stream",
     "text": [
      "JANUARY 8348 51464\n",
      "FEBRUARY 7949 47042\n",
      "OCTOBER 6854 39504\n",
      "MAY 7311 39309\n",
      "AUGUST 6551 38648\n",
      "JULY 6897 38619\n",
      "JUNE 6684 38231\n",
      "DECEMBER 6306 38069\n",
      "SEPTEMBER 6383 37995\n",
      "NOVEMBER 6383 37329\n",
      "MARCH 6875 36410\n",
      "APRIL 7061 35112\n"
     ]
    }
   ],
   "source": [
    "with open('Question1_Part1.csv', 'w') as csvfile:    # Creating a CSV file named 'Data' in write mode as csvfile\n",
    "    fieldnames = ['Month', 'Manhattan','NYC','Percentage']  #Naming the title Row of the CSV\n",
    "    writer = csv.DictWriter(csvfile, fieldnames=fieldnames)\n",
    "                # Initializing a variable 'rank' to 1 for ranking\n",
    "    writer.writeheader()\n",
    "    for k,v in D:\n",
    "        for a,b in Calender:\n",
    "            for x,y in M:\n",
    "                if k == a:\n",
    "                    if x == a:\n",
    "                        print(b,y,v)\n",
    "                        percent = (y/v)*100\n",
    "                        writer.writerow({'Month': b,'Manhattan':y, 'NYC': v,'Percentage': percent})"
   ]
  },
  {
   "cell_type": "code",
   "execution_count": null,
   "metadata": {
    "collapsed": true
   },
   "outputs": [],
   "source": []
  }
 ],
 "metadata": {
  "anaconda-cloud": {},
  "kernelspec": {
   "display_name": "Python [conda root]",
   "language": "python",
   "name": "conda-root-py"
  },
  "language_info": {
   "codemirror_mode": {
    "name": "ipython",
    "version": 3
   },
   "file_extension": ".py",
   "mimetype": "text/x-python",
   "name": "python",
   "nbconvert_exporter": "python",
   "pygments_lexer": "ipython3",
   "version": "3.5.2"
  }
 },
 "nbformat": 4,
 "nbformat_minor": 1
}
