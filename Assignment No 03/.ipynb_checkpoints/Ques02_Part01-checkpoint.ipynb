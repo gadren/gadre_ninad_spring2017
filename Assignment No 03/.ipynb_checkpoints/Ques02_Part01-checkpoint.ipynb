{
 "cells": [
  {
   "cell_type": "markdown",
   "metadata": {},
   "source": [
    "# Q2_PART ONE\n",
    "Find out the highest paid departments in each organization group by\n",
    "calculating mean of total compensation for every department"
   ]
  },
  {
   "cell_type": "code",
   "execution_count": 1,
   "metadata": {
    "collapsed": true
   },
   "outputs": [],
   "source": [
    "import pandas as pd\n",
    "from pandas import DataFrame\n",
    "import sys, os, datetime"
   ]
  },
  {
   "cell_type": "code",
   "execution_count": 3,
   "metadata": {
    "collapsed": false
   },
   "outputs": [
    {
     "data": {
      "text/plain": [
       "'C:\\\\Users\\\\ninad\\\\LocalRepository\\\\gadre_ninad_spring2017\\\\Assignment No 03\\\\data\\\\employee_compensation.csv'"
      ]
     },
     "execution_count": 3,
     "metadata": {},
     "output_type": "execute_result"
    }
   ],
   "source": [
    "path = os.getcwd()+'\\\\data\\\\employee_compensation.csv'\n",
    "path"
   ]
  },
  {
   "cell_type": "code",
   "execution_count": 4,
   "metadata": {
    "collapsed": true
   },
   "outputs": [],
   "source": [
    "df = pd.read_csv(path) #Read data from CSV"
   ]
  },
  {
   "cell_type": "code",
   "execution_count": 5,
   "metadata": {
    "collapsed": false
   },
   "outputs": [
    {
     "data": {
      "text/html": [
       "<div>\n",
       "<table border=\"1\" class=\"dataframe\">\n",
       "  <thead>\n",
       "    <tr style=\"text-align: right;\">\n",
       "      <th></th>\n",
       "      <th>Year Type</th>\n",
       "      <th>Year</th>\n",
       "      <th>Organization Group Code</th>\n",
       "      <th>Organization Group</th>\n",
       "      <th>Department Code</th>\n",
       "      <th>Department</th>\n",
       "      <th>Union Code</th>\n",
       "      <th>Union</th>\n",
       "      <th>Job Family Code</th>\n",
       "      <th>Job Family</th>\n",
       "      <th>...</th>\n",
       "      <th>Employee Identifier</th>\n",
       "      <th>Salaries</th>\n",
       "      <th>Overtime</th>\n",
       "      <th>Other Salaries</th>\n",
       "      <th>Total Salary</th>\n",
       "      <th>Retirement</th>\n",
       "      <th>Health/Dental</th>\n",
       "      <th>Other Benefits</th>\n",
       "      <th>Total Benefits</th>\n",
       "      <th>Total Compensation</th>\n",
       "    </tr>\n",
       "  </thead>\n",
       "  <tbody>\n",
       "    <tr>\n",
       "      <th>0</th>\n",
       "      <td>Calendar</td>\n",
       "      <td>2013</td>\n",
       "      <td>2</td>\n",
       "      <td>Public Works, Transportation &amp; Commerce</td>\n",
       "      <td>AIR</td>\n",
       "      <td>Airport Commission</td>\n",
       "      <td>38.0</td>\n",
       "      <td>Plumbers and Pipefitters, Local 38</td>\n",
       "      <td>7300</td>\n",
       "      <td>Journeyman Trade</td>\n",
       "      <td>...</td>\n",
       "      <td>52206</td>\n",
       "      <td>98528.52</td>\n",
       "      <td>0.00</td>\n",
       "      <td>3955.59</td>\n",
       "      <td>102484.11</td>\n",
       "      <td>20142.55</td>\n",
       "      <td>12918.24</td>\n",
       "      <td>8371.76</td>\n",
       "      <td>41432.55</td>\n",
       "      <td>143916.66</td>\n",
       "    </tr>\n",
       "    <tr>\n",
       "      <th>1</th>\n",
       "      <td>Fiscal</td>\n",
       "      <td>2015</td>\n",
       "      <td>4</td>\n",
       "      <td>Community Health</td>\n",
       "      <td>DPH</td>\n",
       "      <td>Public Health</td>\n",
       "      <td>790.0</td>\n",
       "      <td>SEIU - Miscellaneous, Local 1021</td>\n",
       "      <td>2600</td>\n",
       "      <td>Dietary &amp; Food</td>\n",
       "      <td>...</td>\n",
       "      <td>52950</td>\n",
       "      <td>69169.82</td>\n",
       "      <td>755.02</td>\n",
       "      <td>4179.08</td>\n",
       "      <td>74103.92</td>\n",
       "      <td>15641.92</td>\n",
       "      <td>12499.30</td>\n",
       "      <td>5669.02</td>\n",
       "      <td>33810.24</td>\n",
       "      <td>107914.16</td>\n",
       "    </tr>\n",
       "    <tr>\n",
       "      <th>2</th>\n",
       "      <td>Calendar</td>\n",
       "      <td>2016</td>\n",
       "      <td>3</td>\n",
       "      <td>Human Welfare &amp; Neighborhood Development</td>\n",
       "      <td>WOM</td>\n",
       "      <td>Department of the Status of Women</td>\n",
       "      <td>323.0</td>\n",
       "      <td>Members of Boards and Commissions</td>\n",
       "      <td>0900</td>\n",
       "      <td>Management</td>\n",
       "      <td>...</td>\n",
       "      <td>33958</td>\n",
       "      <td>200.00</td>\n",
       "      <td>0.00</td>\n",
       "      <td>0.00</td>\n",
       "      <td>200.00</td>\n",
       "      <td>0.00</td>\n",
       "      <td>51.45</td>\n",
       "      <td>15.83</td>\n",
       "      <td>67.28</td>\n",
       "      <td>267.28</td>\n",
       "    </tr>\n",
       "    <tr>\n",
       "      <th>3</th>\n",
       "      <td>Calendar</td>\n",
       "      <td>2016</td>\n",
       "      <td>6</td>\n",
       "      <td>General Administration &amp; Finance</td>\n",
       "      <td>HRD</td>\n",
       "      <td>Human Resources</td>\n",
       "      <td>790.0</td>\n",
       "      <td>SEIU - Miscellaneous, Local 1021</td>\n",
       "      <td>8100</td>\n",
       "      <td>Legal &amp; Court</td>\n",
       "      <td>...</td>\n",
       "      <td>33073</td>\n",
       "      <td>1783.00</td>\n",
       "      <td>0.00</td>\n",
       "      <td>0.00</td>\n",
       "      <td>1783.00</td>\n",
       "      <td>325.05</td>\n",
       "      <td>257.23</td>\n",
       "      <td>153.85</td>\n",
       "      <td>736.13</td>\n",
       "      <td>2519.13</td>\n",
       "    </tr>\n",
       "    <tr>\n",
       "      <th>4</th>\n",
       "      <td>Fiscal</td>\n",
       "      <td>2015</td>\n",
       "      <td>5</td>\n",
       "      <td>Culture &amp; Recreation</td>\n",
       "      <td>REC</td>\n",
       "      <td>Recreation and Park Commission</td>\n",
       "      <td>790.0</td>\n",
       "      <td>SEIU - Miscellaneous, Local 1021</td>\n",
       "      <td>9900</td>\n",
       "      <td>Public Service Aide</td>\n",
       "      <td>...</td>\n",
       "      <td>15849</td>\n",
       "      <td>1102.50</td>\n",
       "      <td>0.00</td>\n",
       "      <td>0.00</td>\n",
       "      <td>1102.50</td>\n",
       "      <td>0.00</td>\n",
       "      <td>538.82</td>\n",
       "      <td>85.36</td>\n",
       "      <td>624.18</td>\n",
       "      <td>1726.68</td>\n",
       "    </tr>\n",
       "  </tbody>\n",
       "</table>\n",
       "<p>5 rows × 22 columns</p>\n",
       "</div>"
      ],
      "text/plain": [
       "  Year Type  Year  Organization Group Code  \\\n",
       "0  Calendar  2013                        2   \n",
       "1    Fiscal  2015                        4   \n",
       "2  Calendar  2016                        3   \n",
       "3  Calendar  2016                        6   \n",
       "4    Fiscal  2015                        5   \n",
       "\n",
       "                         Organization Group Department Code  \\\n",
       "0   Public Works, Transportation & Commerce             AIR   \n",
       "1                          Community Health             DPH   \n",
       "2  Human Welfare & Neighborhood Development             WOM   \n",
       "3          General Administration & Finance             HRD   \n",
       "4                      Culture & Recreation             REC   \n",
       "\n",
       "                          Department  Union Code  \\\n",
       "0                 Airport Commission        38.0   \n",
       "1                      Public Health       790.0   \n",
       "2  Department of the Status of Women       323.0   \n",
       "3                    Human Resources       790.0   \n",
       "4     Recreation and Park Commission       790.0   \n",
       "\n",
       "                                Union Job Family Code           Job Family  \\\n",
       "0  Plumbers and Pipefitters, Local 38            7300     Journeyman Trade   \n",
       "1    SEIU - Miscellaneous, Local 1021            2600       Dietary & Food   \n",
       "2   Members of Boards and Commissions            0900           Management   \n",
       "3    SEIU - Miscellaneous, Local 1021            8100        Legal & Court   \n",
       "4    SEIU - Miscellaneous, Local 1021            9900  Public Service Aide   \n",
       "\n",
       "          ...         Employee Identifier  Salaries  Overtime  Other Salaries  \\\n",
       "0         ...                       52206  98528.52      0.00         3955.59   \n",
       "1         ...                       52950  69169.82    755.02         4179.08   \n",
       "2         ...                       33958    200.00      0.00            0.00   \n",
       "3         ...                       33073   1783.00      0.00            0.00   \n",
       "4         ...                       15849   1102.50      0.00            0.00   \n",
       "\n",
       "   Total Salary  Retirement  Health/Dental  Other Benefits  Total Benefits  \\\n",
       "0     102484.11    20142.55       12918.24         8371.76        41432.55   \n",
       "1      74103.92    15641.92       12499.30         5669.02        33810.24   \n",
       "2        200.00        0.00          51.45           15.83           67.28   \n",
       "3       1783.00      325.05         257.23          153.85          736.13   \n",
       "4       1102.50        0.00         538.82           85.36          624.18   \n",
       "\n",
       "   Total Compensation  \n",
       "0           143916.66  \n",
       "1           107914.16  \n",
       "2              267.28  \n",
       "3             2519.13  \n",
       "4             1726.68  \n",
       "\n",
       "[5 rows x 22 columns]"
      ]
     },
     "execution_count": 5,
     "metadata": {},
     "output_type": "execute_result"
    }
   ],
   "source": [
    "df.head()"
   ]
  },
  {
   "cell_type": "code",
   "execution_count": 7,
   "metadata": {
    "collapsed": false
   },
   "outputs": [
    {
     "data": {
      "text/html": [
       "<div>\n",
       "<table border=\"1\" class=\"dataframe\">\n",
       "  <thead>\n",
       "    <tr style=\"text-align: right;\">\n",
       "      <th></th>\n",
       "      <th>Organization Group</th>\n",
       "      <th>Department</th>\n",
       "      <th>Total Compensation</th>\n",
       "    </tr>\n",
       "  </thead>\n",
       "  <tbody>\n",
       "    <tr>\n",
       "      <th>0</th>\n",
       "      <td>Public Works, Transportation &amp; Commerce</td>\n",
       "      <td>Airport Commission</td>\n",
       "      <td>143916.66</td>\n",
       "    </tr>\n",
       "    <tr>\n",
       "      <th>1</th>\n",
       "      <td>Community Health</td>\n",
       "      <td>Public Health</td>\n",
       "      <td>107914.16</td>\n",
       "    </tr>\n",
       "    <tr>\n",
       "      <th>2</th>\n",
       "      <td>Human Welfare &amp; Neighborhood Development</td>\n",
       "      <td>Department of the Status of Women</td>\n",
       "      <td>267.28</td>\n",
       "    </tr>\n",
       "    <tr>\n",
       "      <th>3</th>\n",
       "      <td>General Administration &amp; Finance</td>\n",
       "      <td>Human Resources</td>\n",
       "      <td>2519.13</td>\n",
       "    </tr>\n",
       "    <tr>\n",
       "      <th>4</th>\n",
       "      <td>Culture &amp; Recreation</td>\n",
       "      <td>Recreation and Park Commission</td>\n",
       "      <td>1726.68</td>\n",
       "    </tr>\n",
       "  </tbody>\n",
       "</table>\n",
       "</div>"
      ],
      "text/plain": [
       "                         Organization Group  \\\n",
       "0   Public Works, Transportation & Commerce   \n",
       "1                          Community Health   \n",
       "2  Human Welfare & Neighborhood Development   \n",
       "3          General Administration & Finance   \n",
       "4                      Culture & Recreation   \n",
       "\n",
       "                          Department  Total Compensation  \n",
       "0                 Airport Commission           143916.66  \n",
       "1                      Public Health           107914.16  \n",
       "2  Department of the Status of Women              267.28  \n",
       "3                    Human Resources             2519.13  \n",
       "4     Recreation and Park Commission             1726.68  "
      ]
     },
     "execution_count": 7,
     "metadata": {},
     "output_type": "execute_result"
    }
   ],
   "source": [
    "df2 = df[['Organization Group','Department','Total Compensation']]\n",
    "df2.head()"
   ]
  },
  {
   "cell_type": "code",
   "execution_count": 9,
   "metadata": {
    "collapsed": false
   },
   "outputs": [
    {
     "data": {
      "text/plain": [
       "array(['Public Works, Transportation & Commerce', 'Community Health',\n",
       "       'Human Welfare & Neighborhood Development',\n",
       "       'General Administration & Finance', 'Culture & Recreation',\n",
       "       'Public Protection', 'General City Responsibilities'], dtype=object)"
      ]
     },
     "execution_count": 9,
     "metadata": {},
     "output_type": "execute_result"
    }
   ],
   "source": [
    "org = df2['Organization Group'].unique()\n",
    "org"
   ]
  },
  {
   "cell_type": "code",
   "execution_count": 10,
   "metadata": {
    "collapsed": false
   },
   "outputs": [
    {
     "data": {
      "text/plain": [
       "array(['Airport Commission', 'Public Health',\n",
       "       'Department of the Status of Women', 'Human Resources',\n",
       "       'Recreation and Park Commission',\n",
       "       'Department of Building Inspection',\n",
       "       'General Services Agency - Public Works',\n",
       "       'General Services Agency - City Admin', 'Asian Art Museum',\n",
       "       'City Planning', 'PUC Water Department', 'Public Library',\n",
       "       'Fine Arts Museum', 'Municipal Transportation Agency',\n",
       "       'Human Services', 'Children and Families Commission',\n",
       "       'PUC Wastewater Enterprise', 'Juvenile Probation', 'Police',\n",
       "       'General Services Agency - Technology', 'Fire Department',\n",
       "       'Health Service System', 'PUC Hetch Hetchy', 'Sheriff',\n",
       "       'PUC Public Utilities Commission', 'Controller', 'Public Defender',\n",
       "       'Port', 'Treasurer/Tax Collector', 'District Attorney',\n",
       "       'Superior Court', 'Adult Probation',\n",
       "       'Department of Emergency Management', 'Elections',\n",
       "       'Economic and Workforce Development', 'City Attorney',\n",
       "       'Children, Youth & Their Families', 'Assessor/Recorder',\n",
       "       'Environment', 'Homelessness and Supportive Housing',\n",
       "       'War Memorial', 'Mayor', 'Retirement System',\n",
       "       'Child Support Services', 'Human Rights Commission',\n",
       "       'Rent Arbitration Board', 'Arts Commission', 'Ethics Commission',\n",
       "       'Civil Service Commission', 'Board of Supervisors',\n",
       "       'General Fund Unallocated', 'Board of Appeals',\n",
       "       'Community Investment & Infrastructure', 'Academy of Sciences',\n",
       "       'Law Library', 'PUC Clean Power'], dtype=object)"
      ]
     },
     "execution_count": 10,
     "metadata": {},
     "output_type": "execute_result"
    }
   ],
   "source": [
    "dept = df2['Department'].unique()\n",
    "dept"
   ]
  },
  {
   "cell_type": "code",
   "execution_count": 11,
   "metadata": {
    "collapsed": false
   },
   "outputs": [
    {
     "data": {
      "text/html": [
       "<div>\n",
       "<table border=\"1\" class=\"dataframe\">\n",
       "  <thead>\n",
       "    <tr style=\"text-align: right;\">\n",
       "      <th></th>\n",
       "      <th>Organization Group</th>\n",
       "      <th>Department</th>\n",
       "      <th>Average Compensation</th>\n",
       "    </tr>\n",
       "  </thead>\n",
       "  <tbody>\n",
       "    <tr>\n",
       "      <th>0</th>\n",
       "      <td>Public Works, Transportation &amp; Commerce</td>\n",
       "      <td>Port</td>\n",
       "      <td>112139.680017</td>\n",
       "    </tr>\n",
       "    <tr>\n",
       "      <th>1</th>\n",
       "      <td>Public Works, Transportation &amp; Commerce</td>\n",
       "      <td>PUC Water Department</td>\n",
       "      <td>109806.587567</td>\n",
       "    </tr>\n",
       "    <tr>\n",
       "      <th>2</th>\n",
       "      <td>Public Works, Transportation &amp; Commerce</td>\n",
       "      <td>PUC Wastewater Enterprise</td>\n",
       "      <td>108963.589786</td>\n",
       "    </tr>\n",
       "    <tr>\n",
       "      <th>3</th>\n",
       "      <td>Public Works, Transportation &amp; Commerce</td>\n",
       "      <td>PUC Public Utilities Commission</td>\n",
       "      <td>103433.585506</td>\n",
       "    </tr>\n",
       "    <tr>\n",
       "      <th>4</th>\n",
       "      <td>Public Works, Transportation &amp; Commerce</td>\n",
       "      <td>PUC Hetch Hetchy</td>\n",
       "      <td>105280.815330</td>\n",
       "    </tr>\n",
       "  </tbody>\n",
       "</table>\n",
       "</div>"
      ],
      "text/plain": [
       "                        Organization Group                       Department  \\\n",
       "0  Public Works, Transportation & Commerce                             Port   \n",
       "1  Public Works, Transportation & Commerce             PUC Water Department   \n",
       "2  Public Works, Transportation & Commerce        PUC Wastewater Enterprise   \n",
       "3  Public Works, Transportation & Commerce  PUC Public Utilities Commission   \n",
       "4  Public Works, Transportation & Commerce                 PUC Hetch Hetchy   \n",
       "\n",
       "   Average Compensation  \n",
       "0         112139.680017  \n",
       "1         109806.587567  \n",
       "2         108963.589786  \n",
       "3         103433.585506  \n",
       "4         105280.815330  "
      ]
     },
     "execution_count": 11,
     "metadata": {},
     "output_type": "execute_result"
    }
   ],
   "source": [
    "orglist = []\n",
    "for each in org:\n",
    "    df3 = df2[df2['Organization Group'] == each]\n",
    "    depts = df3['Department'].unique()\n",
    "    for every in depts:\n",
    "        average = df3[df3['Department'] == every].mean()\n",
    "        orglist.append((each,every,average[0]))\n",
    "        \n",
    "avg_comp = DataFrame(orglist,columns=('Organization Group',\n",
    "                                      'Department',\n",
    "                                      'Average Compensation')).sort_values(by=['Organization Group',\n",
    "                                                                               'Department',\n",
    "                                                                               'Average Compensation'],ascending = False).reset_index(drop=True)\n",
    "avg_comp.head()"
   ]
  },
  {
   "cell_type": "code",
   "execution_count": 12,
   "metadata": {
    "collapsed": true
   },
   "outputs": [],
   "source": [
    "#write to csv\n",
    "avg_comp.to_csv('Ques02_Part01.csv',index=False,header=True)"
   ]
  },
  {
   "cell_type": "code",
   "execution_count": null,
   "metadata": {
    "collapsed": true
   },
   "outputs": [],
   "source": []
  }
 ],
 "metadata": {
  "anaconda-cloud": {},
  "kernelspec": {
   "display_name": "Python [conda root]",
   "language": "python",
   "name": "conda-root-py"
  },
  "language_info": {
   "codemirror_mode": {
    "name": "ipython",
    "version": 3
   },
   "file_extension": ".py",
   "mimetype": "text/x-python",
   "name": "python",
   "nbconvert_exporter": "python",
   "pygments_lexer": "ipython3",
   "version": "3.5.2"
  }
 },
 "nbformat": 4,
 "nbformat_minor": 1
}
