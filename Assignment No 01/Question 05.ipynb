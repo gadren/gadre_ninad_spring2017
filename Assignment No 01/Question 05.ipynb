{
 "cells": [
  {
   "cell_type": "code",
   "execution_count": 10,
   "metadata": {
    "collapsed": false
   },
   "outputs": [
    {
     "data": {
      "text/plain": [
       "['austen-emma.txt',\n",
       " 'austen-persuasion.txt',\n",
       " 'austen-sense.txt',\n",
       " 'bible-kjv.txt',\n",
       " 'blake-poems.txt',\n",
       " 'bryant-stories.txt',\n",
       " 'burgess-busterbrown.txt',\n",
       " 'carroll-alice.txt',\n",
       " 'chesterton-ball.txt',\n",
       " 'chesterton-brown.txt',\n",
       " 'chesterton-thursday.txt',\n",
       " 'edgeworth-parents.txt',\n",
       " 'melville-moby_dick.txt',\n",
       " 'milton-paradise.txt',\n",
       " 'shakespeare-caesar.txt',\n",
       " 'shakespeare-hamlet.txt',\n",
       " 'shakespeare-macbeth.txt',\n",
       " 'whitman-leaves.txt']"
      ]
     },
     "execution_count": 10,
     "metadata": {},
     "output_type": "execute_result"
    }
   ],
   "source": [
    "import nltk\n",
    "nltk.corpus.gutenberg.fileids()\n"
   ]
  },
  {
   "cell_type": "code",
   "execution_count": 11,
   "metadata": {
    "collapsed": false
   },
   "outputs": [
    {
     "data": {
      "text/plain": [
       "['firefox.txt',\n",
       " 'grail.txt',\n",
       " 'overheard.txt',\n",
       " 'pirates.txt',\n",
       " 'singles.txt',\n",
       " 'wine.txt']"
      ]
     },
     "execution_count": 11,
     "metadata": {},
     "output_type": "execute_result"
    }
   ],
   "source": [
    "nltk.corpus.webtext.fileids()"
   ]
  },
  {
   "cell_type": "code",
   "execution_count": 12,
   "metadata": {
    "collapsed": true
   },
   "outputs": [],
   "source": [
    "import nltk #get the inputs\n",
    "spWords = list()\n",
    "spWords = nltk.corpus.gutenberg.words(\"shakespeare-caesar.txt\")\n",
    "spWords = spWords + nltk.corpus.gutenberg.words(\"shakespeare-hamlet.txt\")\n",
    "spWords = spWords + nltk.corpus.gutenberg.words(\"shakespeare-macbeth.txt\")\n",
    "webWords = list()\n",
    "for text in nltk.corpus.webtext.fileids():\n",
    "    if len(webWords) == 0:\n",
    "        webWords = nltk.corpus.webtext.words(text)\n",
    "    else:\n",
    "        webWords += nltk.corpus.webtext.words(text)\n",
    "spWords = [word.lower() for word in spWords]\n",
    "webWords = [word.lower() for word in webWords]"
   ]
  },
  {
   "cell_type": "code",
   "execution_count": 13,
   "metadata": {
    "collapsed": true
   },
   "outputs": [],
   "source": [
    "def freqWord(word_list):\n",
    "    freq_list = {}\n",
    "    for word in word_list:\n",
    "        if word in freq_list:\n",
    "            freq_list[word] += 1\n",
    "        else:\n",
    "            freq_list[word] = 1\n",
    "    freq = sorted(freq_list, key=freq_list.get, reverse=True)\n",
    "    return freq"
   ]
  },
  {
   "cell_type": "code",
   "execution_count": 14,
   "metadata": {
    "collapsed": true
   },
   "outputs": [],
   "source": [
    "def removeStopPunc(word_list):\n",
    "    abc = [\"a\",\"b\",\"c\",\"d\",\"e\",\"f\",\"g\",\"h\",\"i\",\"j\",\"k\",\"l\",\"m\",\"n\",\"o\",\"p\",\"q\",\"r\",\"s\",\"t\",\"u\",\"v\",\"w\",\"x\",\"y\",\"z\"]\n",
    "    from nltk.corpus import stopwords\n",
    "    stopwords = stopwords.words('english')\n",
    "    word_list = [word for word in word_list if (word not in stopwords)]\n",
    "    word_list = [word for word in word_list if (word[0] in abc)]\n",
    "    return word_list"
   ]
  },
  {
   "cell_type": "code",
   "execution_count": 15,
   "metadata": {
    "collapsed": false
   },
   "outputs": [
    {
     "name": "stdout",
     "output_type": "stream",
     "text": [
      "The top five words used in shakespeare that we do not use tody are ['haue', 'ham', 'thou', 'shall', 'lord']\n"
     ]
    }
   ],
   "source": [
    "spWords = removeStopPunc(spWords)\n",
    "webWords  = removeStopPunc(webWords)\n",
    "spWordsFreq = freqWord(spWords)[:50]\n",
    "webWordsFreq = freqWord(webWords)[:50]\n",
    "combo = [word for word in spWordsFreq if word not in webWordsFreq]\n",
    "print(\"The top five words used in shakespeare that we do not use tody are\",combo[:5])"
   ]
  },
  {
   "cell_type": "code",
   "execution_count": null,
   "metadata": {
    "collapsed": true
   },
   "outputs": [],
   "source": []
  }
 ],
 "metadata": {
  "anaconda-cloud": {},
  "kernelspec": {
   "display_name": "Python [conda root]",
   "language": "python",
   "name": "conda-root-py"
  },
  "language_info": {
   "codemirror_mode": {
    "name": "ipython",
    "version": 3
   },
   "file_extension": ".py",
   "mimetype": "text/x-python",
   "name": "python",
   "nbconvert_exporter": "python",
   "pygments_lexer": "ipython3",
   "version": "3.5.2"
  }
 },
 "nbformat": 4,
 "nbformat_minor": 1
}
