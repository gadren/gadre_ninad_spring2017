{
 "cells": [
  {
   "cell_type": "markdown",
   "metadata": {},
   "source": [
    "# Question 2\n",
    "\n",
    "Under package Gutenberg get content from file 'melville-moby_dick.txt.' (HINT: Words? Raw?)\n",
    "Find out frequency of 26 characters. (Turn uppercase into lowercase and count as one character)\n",
    "List all 26 characters in order base on their frequency. (From most frequent to least frequent)"
   ]
  },
  {
   "cell_type": "code",
   "execution_count": 1,
   "metadata": {
    "collapsed": false
   },
   "outputs": [
    {
     "data": {
      "text/plain": [
       "['austen-emma.txt',\n",
       " 'austen-persuasion.txt',\n",
       " 'austen-sense.txt',\n",
       " 'bible-kjv.txt',\n",
       " 'blake-poems.txt',\n",
       " 'bryant-stories.txt',\n",
       " 'burgess-busterbrown.txt',\n",
       " 'carroll-alice.txt',\n",
       " 'chesterton-ball.txt',\n",
       " 'chesterton-brown.txt',\n",
       " 'chesterton-thursday.txt',\n",
       " 'edgeworth-parents.txt',\n",
       " 'melville-moby_dick.txt',\n",
       " 'milton-paradise.txt',\n",
       " 'shakespeare-caesar.txt',\n",
       " 'shakespeare-hamlet.txt',\n",
       " 'shakespeare-macbeth.txt',\n",
       " 'whitman-leaves.txt']"
      ]
     },
     "execution_count": 1,
     "metadata": {},
     "output_type": "execute_result"
    }
   ],
   "source": [
    "import nltk\n",
    "nltk.corpus.gutenberg.fileids()"
   ]
  },
  {
   "cell_type": "code",
   "execution_count": 3,
   "metadata": {
    "collapsed": true
   },
   "outputs": [],
   "source": [
    "raw_data = nltk.corpus.gutenberg.raw(\"melville-moby_dick.txt\")\n",
    "lowercase_data = raw_data.lower()"
   ]
  },
  {
   "cell_type": "code",
   "execution_count": 6,
   "metadata": {
    "collapsed": false
   },
   "outputs": [
    {
     "name": "stdout",
     "output_type": "stream",
     "text": [
      "letter: e  Count: 115855\n",
      "letter: t  Count: 85539\n",
      "letter: a  Count: 75266\n",
      "letter: o  Count: 68338\n",
      "letter: n  Count: 64431\n",
      "letter: s  Count: 62022\n",
      "letter: i  Count: 61891\n",
      "letter: h  Count: 61434\n",
      "letter: r  Count: 51311\n",
      "letter: l  Count: 41893\n",
      "letter: d  Count: 37468\n",
      "letter: u  Count: 26457\n",
      "letter: m  Count: 22525\n",
      "letter: c  Count: 21360\n",
      "letter: w  Count: 20917\n",
      "letter: g  Count: 20180\n",
      "letter: f  Count: 20029\n",
      "letter: y  Count: 16542\n",
      "letter: p  Count: 16207\n",
      "letter: b  Count: 15451\n",
      "letter: v  Count: 8427\n",
      "letter: k  Count: 7882\n",
      "letter: q  Count: 1234\n",
      "letter: x  Count: 1007\n",
      "letter: j  Count: 829\n",
      "letter: z  Count: 594\n"
     ]
    }
   ],
   "source": [
    "a_z = [[\"a\",0],[\"b\",0],[\"c\",0],[\"d\",0],[\"e\",0],[\"f\",0],[\"g\",0],[\"h\",0],\n",
    "       [\"i\",0],[\"j\",0],[\"k\",0],[\"l\",0],[\"m\",0],[\"n\",0],[\"o\",0],[\"p\",0],\n",
    "       [\"q\",0],[\"r\",0],[\"s\",0],[\"t\",0],[\"u\",0],[\"v\",0],[\"w\",0],[\"x\",0],\n",
    "       [\"y\",0],[\"z\",0]]\n",
    "\n",
    "for alpha in raw_data:\n",
    "    if(alpha==\"a\"):\n",
    "        a_z[0][1] += 1\n",
    "    elif(alpha==\"b\"):\n",
    "        a_z[1][1] += 1\n",
    "    elif(alpha==\"c\"):\n",
    "        a_z[2][1] += 1\n",
    "    elif(alpha==\"d\"):\n",
    "        a_z[3][1] += 1\n",
    "    elif(alpha==\"e\"):\n",
    "        a_z[4][1] += 1\n",
    "    elif(alpha==\"f\"):\n",
    "        a_z[5][1] += 1\n",
    "    elif(alpha==\"g\"):\n",
    "        a_z[6][1] += 1\n",
    "    elif(alpha==\"h\"):\n",
    "        a_z[7][1] += 1\n",
    "    elif(alpha==\"i\"):\n",
    "        a_z[8][1] += 1\n",
    "    elif(alpha==\"j\"):\n",
    "        a_z[9][1] += 1\n",
    "    elif(alpha==\"k\"):\n",
    "        a_z[10][1] += 1\n",
    "    elif(alpha==\"l\"):\n",
    "        a_z[11][1] += 1\n",
    "    elif(alpha==\"m\"):\n",
    "        a_z[12][1] += 1\n",
    "    elif(alpha==\"n\"):\n",
    "        a_z[13][1] += 1\n",
    "    elif(alpha==\"o\"):\n",
    "        a_z[14][1] += 1\n",
    "    elif(alpha==\"p\"):\n",
    "        a_z[15][1] += 1\n",
    "    elif(alpha==\"q\"):\n",
    "        a_z[16][1] += 1\n",
    "    elif(alpha==\"r\"):\n",
    "        a_z[17][1] += 1\n",
    "    elif(alpha==\"s\"):\n",
    "        a_z[18][1] += 1\n",
    "    elif(alpha==\"t\"):\n",
    "        a_z[19][1] += 1\n",
    "    elif(alpha==\"u\"):\n",
    "        a_z[20][1] += 1\n",
    "    elif(alpha==\"v\"):\n",
    "        a_z[21][1] += 1\n",
    "    elif(alpha==\"w\"):\n",
    "        a_z[22][1] += 1\n",
    "    elif(alpha==\"x\"):\n",
    "        a_z[23][1] += 1\n",
    "    elif(alpha==\"y\"):\n",
    "        a_z[24][1] += 1\n",
    "    elif(alpha==\"z\"):\n",
    "        a_z[25][1] += 1\n",
    "a_z.sort(key=lambda x: x[1],reverse=True)\n",
    "for keyp in a_z:\n",
    "    print(\"letter: %s  Count: %s\" %(keyp[0],keyp[1]))"
   ]
  },
  {
   "cell_type": "code",
   "execution_count": null,
   "metadata": {
    "collapsed": true
   },
   "outputs": [],
   "source": []
  }
 ],
 "metadata": {
  "anaconda-cloud": {},
  "kernelspec": {
   "display_name": "Python [conda root]",
   "language": "python",
   "name": "conda-root-py"
  },
  "language_info": {
   "codemirror_mode": {
    "name": "ipython",
    "version": 3
   },
   "file_extension": ".py",
   "mimetype": "text/x-python",
   "name": "python",
   "nbconvert_exporter": "python",
   "pygments_lexer": "ipython3",
   "version": "3.5.2"
  }
 },
 "nbformat": 4,
 "nbformat_minor": 1
}
