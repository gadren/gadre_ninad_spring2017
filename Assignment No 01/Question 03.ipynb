{
 "cells": [
  {
   "cell_type": "markdown",
   "metadata": {},
   "source": [
    "# Question 3\n",
    "Under package Webtext, see what files are in it.\n",
    "Get content in file 'pirates.txt'.\n",
    "According to the number of lines for Jack Sparrow and Will Turner, find out who is the real leading man in this movie"
   ]
  },
  {
   "cell_type": "code",
   "execution_count": 2,
   "metadata": {
    "collapsed": false
   },
   "outputs": [
    {
     "data": {
      "text/plain": [
       "['firefox.txt',\n",
       " 'grail.txt',\n",
       " 'overheard.txt',\n",
       " 'pirates.txt',\n",
       " 'singles.txt',\n",
       " 'wine.txt']"
      ]
     },
     "execution_count": 2,
     "metadata": {},
     "output_type": "execute_result"
    }
   ],
   "source": [
    "import nltk\n",
    "nltk.corpus.webtext.fileids()"
   ]
  },
  {
   "cell_type": "code",
   "execution_count": 3,
   "metadata": {
    "collapsed": false
   },
   "outputs": [
    {
     "name": "stdout",
     "output_type": "stream",
     "text": [
      "Jack's lines:  193\n",
      "Will's lines:  134\n",
      "Therefor Jack is the real leading man in this movie\n"
     ]
    }
   ],
   "source": [
    "data = nltk.corpus.webtext.words('pirates.txt')\n",
    "jack_num_lines = 0;\n",
    "will_num_lines = 1;\n",
    "for i in range(len(data)):\n",
    "    if(data[i] == \"JACK\" and data[i+1]==\"SPARROW\" and data[i+2]==\":\"):\n",
    "        jack_num_lines+=1\n",
    "    elif(data[i] == \"WILL\" and data[i+1]==\"TURNER\"and data[i+2]==\":\"):\n",
    "        will_num_lines+=1\n",
    "print(\"Jack's lines: \",jack_num_lines)\n",
    "print(\"Will's lines: \",will_num_lines)\n",
    "print(\"Therefor Jack is the real leading man in this movie\")"
   ]
  },
  {
   "cell_type": "code",
   "execution_count": null,
   "metadata": {
    "collapsed": true
   },
   "outputs": [],
   "source": []
  }
 ],
 "metadata": {
  "kernelspec": {
   "display_name": "Python [conda root]",
   "language": "python",
   "name": "conda-root-py"
  },
  "language_info": {
   "codemirror_mode": {
    "name": "ipython",
    "version": 3
   },
   "file_extension": ".py",
   "mimetype": "text/x-python",
   "name": "python",
   "nbconvert_exporter": "python",
   "pygments_lexer": "ipython3",
   "version": "3.5.2"
  }
 },
 "nbformat": 4,
 "nbformat_minor": 1
}
