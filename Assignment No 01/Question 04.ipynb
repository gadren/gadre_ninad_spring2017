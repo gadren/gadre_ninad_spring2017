{
 "cells": [
  {
   "cell_type": "markdown",
   "metadata": {},
   "source": [
    "# Question 4\n",
    "\n",
    "Under package nps_chat, see what files are in it.\n",
    "Find 'user121' and see how many posts he posted in all.\n",
    "Find out how many unique user in each age range group. (20s, 30s,...)(Hint: files' name)\n"
   ]
  },
  {
   "cell_type": "code",
   "execution_count": 2,
   "metadata": {
    "collapsed": false
   },
   "outputs": [
    {
     "name": "stdout",
     "output_type": "stream",
     "text": [
      "['10-19-20s_706posts.xml', '10-19-30s_705posts.xml', '10-19-40s_686posts.xml', '10-19-adults_706posts.xml', '10-24-40s_706posts.xml', '10-26-teens_706posts.xml', '11-06-adults_706posts.xml', '11-08-20s_705posts.xml', '11-08-40s_706posts.xml', '11-08-adults_705posts.xml', '11-08-teens_706posts.xml', '11-09-20s_706posts.xml', '11-09-40s_706posts.xml', '11-09-adults_706posts.xml', '11-09-teens_706posts.xml']\n"
     ]
    }
   ],
   "source": [
    "import nltk\n",
    "import xml.etree.ElementTree\n",
    "chats = nltk.corpus.nps_chat.fileids() #Under package nps_chat, see what files are in it.\n",
    "\n",
    "print(chats)"
   ]
  },
  {
   "cell_type": "code",
   "execution_count": 4,
   "metadata": {
    "collapsed": false
   },
   "outputs": [
    {
     "name": "stdout",
     "output_type": "stream",
     "text": [
      "User121 posted 104 chat files\n"
     ]
    }
   ],
   "source": [
    "numPost = 0\n",
    "for i in range(len(chats)):\n",
    "\n",
    "    chat = nltk.corpus.nps_chat.raw(chats[0])\n",
    "    e = xml.etree.ElementTree.parse(nltk.corpus.nps_chat.open(chats[i])).getroot()\n",
    "    for posts in e.findall(\"Posts\"):\n",
    "        for post in posts.findall(\"Post\"):\n",
    "            if post.get(\"user\")[9:] == \"User121\":\n",
    "                numPost +=1\n",
    "print(\"User121 posted %s chat files\" %numPost)"
   ]
  },
  {
   "cell_type": "code",
   "execution_count": 8,
   "metadata": {
    "collapsed": false
   },
   "outputs": [
    {
     "name": "stdout",
     "output_type": "stream",
     "text": [
      "Number of unique 20s users is 162\n",
      "Number of unique 30s users is 44\n",
      "Number of unique 40s users is 80\n",
      "Number of unique Adult users is 138\n",
      "Number of unique Teen users is 206\n"
     ]
    }
   ],
   "source": [
    "users20 = list()\n",
    "users30 = list()\n",
    "users40 = list()\n",
    "usersAdult = list()\n",
    "usersTeens = list()\n",
    "for i in range(len(chats)):\n",
    "    chat = nltk.corpus.nps_chat.raw(chats[i])\n",
    "    e = xml.etree.ElementTree.parse(nltk.corpus.nps_chat.open(chats[i])).getroot()\n",
    "    for posts in e.findall(\"Posts\"):\n",
    "        for post in posts.findall(\"Post\"):\n",
    "            file = chats[i]\n",
    "            file = file.split('-')\n",
    "            file = file[2].split('_')[0]\n",
    "            \n",
    "            if file == \"20s\":\n",
    "                if post.get(\"user\")[9:] not in users20: \n",
    "                    users20.append(post.get(\"user\")[9:])\n",
    "            elif file == \"30s\":\n",
    "                if post.get(\"user\")[9:] not in users30: \n",
    "                    users30.append(post.get(\"user\")[9:])\n",
    "            elif file == \"40s\":\n",
    "                if post.get(\"user\")[9:] not in users40: \n",
    "                    users40.append(post.get(\"user\")[9:])\n",
    "            elif file == \"adults\":\n",
    "                if post.get(\"user\")[9:] not in usersAdult: \n",
    "                    usersAdult.append(post.get(\"user\")[9:])\n",
    "            elif file == \"teens\":\n",
    "                if post.get(\"user\")[9:] not in usersTeens: \n",
    "                    usersTeens.append(post.get(\"user\")[9:])\n",
    "                    \n",
    "                    \n",
    "print(\"Number of unique 20s users is\",len(users20))\n",
    "print(\"Number of unique 30s users is\",len(users30))\n",
    "print(\"Number of unique 40s users is\",len(users40))\n",
    "print(\"Number of unique Adult users is\",len(usersAdult))\n",
    "print(\"Number of unique Teen users is\",len(usersTeens))\n"
   ]
  },
  {
   "cell_type": "code",
   "execution_count": null,
   "metadata": {
    "collapsed": true
   },
   "outputs": [],
   "source": []
  }
 ],
 "metadata": {
  "anaconda-cloud": {},
  "kernelspec": {
   "display_name": "Python [conda root]",
   "language": "python",
   "name": "conda-root-py"
  },
  "language_info": {
   "codemirror_mode": {
    "name": "ipython",
    "version": 3
   },
   "file_extension": ".py",
   "mimetype": "text/x-python",
   "name": "python",
   "nbconvert_exporter": "python",
   "pygments_lexer": "ipython3",
   "version": "3.5.2"
  }
 },
 "nbformat": 4,
 "nbformat_minor": 1
}
