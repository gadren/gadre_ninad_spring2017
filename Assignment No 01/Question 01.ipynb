{
 "cells": [
  {
   "cell_type": "markdown",
   "metadata": {},
   "source": [
    "# Question 1\n",
    "\n",
    "Under package Gutenberg, see what files are in it.\n",
    "Find out how many words and how many unique words in file 'austen-persuasion.txt'.\n",
    "Calculate the frequency for each words and show the top 10 most frequent words and their frequency."
   ]
  },
  {
   "cell_type": "code",
   "execution_count": 2,
   "metadata": {
    "collapsed": false
   },
   "outputs": [
    {
     "data": {
      "text/plain": [
       "['austen-emma.txt',\n",
       " 'austen-persuasion.txt',\n",
       " 'austen-sense.txt',\n",
       " 'bible-kjv.txt',\n",
       " 'blake-poems.txt',\n",
       " 'bryant-stories.txt',\n",
       " 'burgess-busterbrown.txt',\n",
       " 'carroll-alice.txt',\n",
       " 'chesterton-ball.txt',\n",
       " 'chesterton-brown.txt',\n",
       " 'chesterton-thursday.txt',\n",
       " 'edgeworth-parents.txt',\n",
       " 'melville-moby_dick.txt',\n",
       " 'milton-paradise.txt',\n",
       " 'shakespeare-caesar.txt',\n",
       " 'shakespeare-hamlet.txt',\n",
       " 'shakespeare-macbeth.txt',\n",
       " 'whitman-leaves.txt']"
      ]
     },
     "execution_count": 2,
     "metadata": {},
     "output_type": "execute_result"
    }
   ],
   "source": [
    "import nltk\n",
    "nltk.corpus.gutenberg.fileids()"
   ]
  },
  {
   "cell_type": "code",
   "execution_count": 5,
   "metadata": {
    "collapsed": false
   },
   "outputs": [
    {
     "name": "stdout",
     "output_type": "stream",
     "text": [
      "Number of words in austen persuation are : 98171\n",
      "Number of unique words in austen persuation are: 6132\n"
     ]
    }
   ],
   "source": [
    "total_words = nltk.corpus.gutenberg.words('austen-persuasion.txt')\n",
    "print(\"Number of words in austen persuation are :\",len(total_words))\n",
    "unique_words = set(total_words)\n",
    "print(\"Number of unique words in austen persuation are:\",len(unique_words))"
   ]
  },
  {
   "cell_type": "code",
   "execution_count": 10,
   "metadata": {
    "collapsed": false
   },
   "outputs": [
    {
     "name": "stdout",
     "output_type": "stream",
     "text": [
      "Word: ,  | Frequency: 6750\n",
      "Word: the  | Frequency: 3120\n",
      "Word: to  | Frequency: 2775\n",
      "Word: .  | Frequency: 2741\n",
      "Word: and  | Frequency: 2739\n",
      "Word: of  | Frequency: 2564\n",
      "Word: a  | Frequency: 1529\n",
      "Word: in  | Frequency: 1346\n",
      "Word: was  | Frequency: 1330\n",
      "Word: ;  | Frequency: 1290\n"
     ]
    }
   ],
   "source": [
    "freq_list = {}\n",
    "for word in total_words:\n",
    "    if word in freq_list:\n",
    "        freq_list[word] +=1\n",
    "    else:\n",
    "        freq_list[word] = 1\n",
    "freq = sorted(freq_list, key=freq_list.get, reverse=True)\n",
    "for word in freq[:10]:\n",
    "    print(\"Word: %s  | Frequency: %s\"%(word,freq_list[word]))"
   ]
  },
  {
   "cell_type": "code",
   "execution_count": null,
   "metadata": {
    "collapsed": true
   },
   "outputs": [],
   "source": []
  }
 ],
 "metadata": {
  "anaconda-cloud": {},
  "kernelspec": {
   "display_name": "Python [conda root]",
   "language": "python",
   "name": "conda-root-py"
  },
  "language_info": {
   "codemirror_mode": {
    "name": "ipython",
    "version": 3
   },
   "file_extension": ".py",
   "mimetype": "text/x-python",
   "name": "python",
   "nbconvert_exporter": "python",
   "pygments_lexer": "ipython3",
   "version": "3.5.2"
  }
 },
 "nbformat": 4,
 "nbformat_minor": 1
}
