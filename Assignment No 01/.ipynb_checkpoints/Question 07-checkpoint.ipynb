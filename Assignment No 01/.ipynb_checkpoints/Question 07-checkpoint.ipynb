{
 "cells": [
  {
   "cell_type": "markdown",
   "metadata": {},
   "source": [
    "# Question 7\n",
    "Use Name corpus, calculate the probability of a name being of a male or female base on the last character(s) of name.\n",
    "Sample steps:\n",
    "For char ‘a’:\n",
    "\ttotal_names = sum(names ending with ‘a’)\n",
    "\tmale_names = sum(male names ending with ‘a’)\n",
    "\tfemale_names = sum(female names ending with ‘a’)\n",
    "\tProbability of name being male = 100 * male_names / total_names\n",
    "2. Do this for all characters. \n",
    "Output must come with proper title (e.g. [a] male: 25%, female: 60%)\n"
   ]
  },
  {
   "cell_type": "code",
   "execution_count": 2,
   "metadata": {
    "collapsed": false
   },
   "outputs": [
    {
     "data": {
      "text/plain": [
       "['female.txt', 'male.txt']"
      ]
     },
     "execution_count": 2,
     "metadata": {},
     "output_type": "execute_result"
    }
   ],
   "source": [
    "import nltk\n",
    "nltk.corpus.names.fileids()"
   ]
  },
  {
   "cell_type": "code",
   "execution_count": 3,
   "metadata": {
    "collapsed": false
   },
   "outputs": [
    {
     "name": "stdout",
     "output_type": "stream",
     "text": [
      "Name ends with a male:0.95%, \tfemale:98.38% \tunisex:0.67%\n",
      "Name ends with b male:70.00%, \tfemale:30.00% \tunisex:0.00%\n",
      "Name ends with c male:100.00%, \tfemale:0.00% \tunisex:0.00%\n",
      "Name ends with d male:85.06%, \tfemale:12.64% \tunisex:2.30%\n",
      "Name ends with e male:19.78%, \tfemale:73.78% \tunisex:6.44%\n",
      "Name ends with f male:92.59%, \tfemale:7.41% \tunisex:0.00%\n",
      "Name ends with g male:76.19%, \tfemale:23.81% \tunisex:0.00%\n",
      "Name ends with h male:45.31%, \tfemale:51.56% \tunisex:3.12%\n",
      "Name ends with i male:10.70%, \tfemale:85.92% \tunisex:3.38%\n",
      "Name ends with j male:75.00%, \tfemale:25.00% \tunisex:0.00%\n",
      "Name ends with k male:95.71%, \tfemale:1.43% \tunisex:2.86%\n",
      "Name ends with l male:46.57%, \tfemale:44.18% \tunisex:9.25%\n",
      "Name ends with m male:83.33%, \tfemale:10.26% \tunisex:6.41%\n",
      "Name ends with n male:53.04%, \tfemale:41.85% \tunisex:5.11%\n",
      "Name ends with o male:82.99%, \tfemale:14.95% \tunisex:2.06%\n",
      "Name ends with p male:89.47%, \tfemale:5.26% \tunisex:5.26%\n",
      "No names end with the letter:  q\n",
      "Name ends with r male:79.83%, \tfemale:18.45% \tunisex:1.72%\n",
      "Name ends with s male:70.00%, \tfemale:25.81% \tunisex:4.19%\n",
      "Name ends with t male:69.64%, \tfemale:26.79% \tunisex:3.57%\n",
      "Name ends with u male:62.50%, \tfemale:25.00% \tunisex:12.50%\n",
      "Name ends with v male:88.89%, \tfemale:11.11% \tunisex:0.00%\n",
      "Name ends with w male:76.19%, \tfemale:19.05% \tunisex:4.76%\n",
      "Name ends with x male:41.18%, \tfemale:41.18% \tunisex:17.65%\n",
      "Name ends with y male:33.67%, \tfemale:52.23% \tunisex:14.10%\n",
      "Name ends with z male:73.33%, \tfemale:26.67% \tunisex:0.00%\n"
     ]
    }
   ],
   "source": [
    "fename = nltk.corpus.names.words('female.txt')\n",
    "maname = nltk.corpus.names.words('male.txt')\n",
    "\n",
    "names = fename + maname\n",
    "names = set(names)\n",
    "alpha = [\"a\",\"b\",\"c\",\"d\",\"e\",\"f\",\"g\",\"h\",\"i\",\"j\",\"k\",\"l\",\"m\",\"n\",\"o\",\"p\",\"q\",\"r\",\"s\",\"t\",\"u\",\"v\",\"w\",\"x\",\"y\",\"z\"]\n",
    "\n",
    "for l in alpha:\n",
    "    total = 0;\n",
    "    ftotal = 0;\n",
    "    mtotal = 0;\n",
    "    utotal = 0\n",
    "    for name in names:\n",
    "        if name[len(name)-1] == l:\n",
    "            total += 1\n",
    "            if name in maname and name not in fename:\n",
    "                mtotal += 1\n",
    "            elif name in fename and name not in maname:\n",
    "                ftotal += 1\n",
    "            else:#in both\n",
    "                utotal+=1\n",
    "    if(not total == 0):\n",
    "        print(\"Name ends with %s male:%.2f%%, \\tfemale:%.2f%% \\tunisex:%.2f%%\" %(l,mtotal/total*100,ftotal/total*100,utotal/total*100))\n",
    "    else:\n",
    "        print(\"No names end with the letter: \",l)\n",
    "    "
   ]
  },
  {
   "cell_type": "code",
   "execution_count": null,
   "metadata": {
    "collapsed": true
   },
   "outputs": [],
   "source": []
  }
 ],
 "metadata": {
  "anaconda-cloud": {},
  "kernelspec": {
   "display_name": "Python [conda root]",
   "language": "python",
   "name": "conda-root-py"
  },
  "language_info": {
   "codemirror_mode": {
    "name": "ipython",
    "version": 3
   },
   "file_extension": ".py",
   "mimetype": "text/x-python",
   "name": "python",
   "nbconvert_exporter": "python",
   "pygments_lexer": "ipython3",
   "version": "3.5.2"
  }
 },
 "nbformat": 4,
 "nbformat_minor": 1
}
