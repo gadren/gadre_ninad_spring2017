{
 "cells": [
  {
   "cell_type": "markdown",
   "metadata": {},
   "source": [
    "# Question 6\n",
    "Under Inaugural Address package\n",
    "For every president, find out how many unique words they used in speech. \n",
    "We will just assume that President Bush means one person (technically it is incorrect but we will ignore it)"
   ]
  },
  {
   "cell_type": "code",
   "execution_count": 17,
   "metadata": {
    "collapsed": false
   },
   "outputs": [
    {
     "data": {
      "text/plain": [
       "['1789-Washington.txt',\n",
       " '1793-Washington.txt',\n",
       " '1797-Adams.txt',\n",
       " '1801-Jefferson.txt',\n",
       " '1805-Jefferson.txt',\n",
       " '1809-Madison.txt',\n",
       " '1813-Madison.txt',\n",
       " '1817-Monroe.txt',\n",
       " '1821-Monroe.txt',\n",
       " '1825-Adams.txt',\n",
       " '1829-Jackson.txt',\n",
       " '1833-Jackson.txt',\n",
       " '1837-VanBuren.txt',\n",
       " '1841-Harrison.txt',\n",
       " '1845-Polk.txt',\n",
       " '1849-Taylor.txt',\n",
       " '1853-Pierce.txt',\n",
       " '1857-Buchanan.txt',\n",
       " '1861-Lincoln.txt',\n",
       " '1865-Lincoln.txt',\n",
       " '1869-Grant.txt',\n",
       " '1873-Grant.txt',\n",
       " '1877-Hayes.txt',\n",
       " '1881-Garfield.txt',\n",
       " '1885-Cleveland.txt',\n",
       " '1889-Harrison.txt',\n",
       " '1893-Cleveland.txt',\n",
       " '1897-McKinley.txt',\n",
       " '1901-McKinley.txt',\n",
       " '1905-Roosevelt.txt',\n",
       " '1909-Taft.txt',\n",
       " '1913-Wilson.txt',\n",
       " '1917-Wilson.txt',\n",
       " '1921-Harding.txt',\n",
       " '1925-Coolidge.txt',\n",
       " '1929-Hoover.txt',\n",
       " '1933-Roosevelt.txt',\n",
       " '1937-Roosevelt.txt',\n",
       " '1941-Roosevelt.txt',\n",
       " '1945-Roosevelt.txt',\n",
       " '1949-Truman.txt',\n",
       " '1953-Eisenhower.txt',\n",
       " '1957-Eisenhower.txt',\n",
       " '1961-Kennedy.txt',\n",
       " '1965-Johnson.txt',\n",
       " '1969-Nixon.txt',\n",
       " '1973-Nixon.txt',\n",
       " '1977-Carter.txt',\n",
       " '1981-Reagan.txt',\n",
       " '1985-Reagan.txt',\n",
       " '1989-Bush.txt',\n",
       " '1993-Clinton.txt',\n",
       " '1997-Clinton.txt',\n",
       " '2001-Bush.txt',\n",
       " '2005-Bush.txt',\n",
       " '2009-Obama.txt']"
      ]
     },
     "execution_count": 17,
     "metadata": {},
     "output_type": "execute_result"
    }
   ],
   "source": [
    "import nltk\n",
    "nltk.corpus.inaugural.fileids()"
   ]
  },
  {
   "cell_type": "code",
   "execution_count": 31,
   "metadata": {
    "collapsed": false
   },
   "outputs": [
    {
     "name": "stdout",
     "output_type": "stream",
     "text": [
      "Washington used 1685 unique words\n",
      "Adams used 5735 unique words\n",
      "Jefferson used 4319 unique words\n",
      "Madison used 2569 unique words\n",
      "Monroe used 8602 unique words\n",
      "Jackson used 2475 unique words\n",
      "VanBuren used 4171 unique words\n",
      "Harrison used 13915 unique words\n",
      "Polk used 5196 unique words\n",
      "Taylor used 1182 unique words\n",
      "Pierce used 3657 unique words\n",
      "Buchanan used 3098 unique words\n",
      "Lincoln used 4790 unique words\n",
      "Grant used 2717 unique words\n",
      "Hayes used 2724 unique words\n",
      "Garfield used 3239 unique words\n",
      "Cleveland used 3981 unique words\n",
      "McKinley used 6821 unique words\n",
      "Roosevelt used 7346 unique words\n",
      "Taft used 5846 unique words\n",
      "Wilson used 3561 unique words\n",
      "Harding used 3756 unique words\n",
      "Coolidge used 4442 unique words\n",
      "Hoover used 3890 unique words\n",
      "Truman used 2528 unique words\n",
      "Eisenhower used 4692 unique words\n",
      "Kennedy used 1546 unique words\n",
      "Johnson used 1715 unique words\n",
      "Nixon used 4453 unique words\n",
      "Carter used 1380 unique words\n",
      "Reagan used 5747 unique words\n",
      "Bush used 6914 unique words\n",
      "Clinton used 4317 unique words\n",
      "Obama used 2726 unique words\n"
     ]
    }
   ],
   "source": [
    "president = list()\n",
    "words = list()\n",
    "speach_list = nltk.corpus.inaugural.fileids()\n",
    "for speach in speach_list:\n",
    "    pres = speach.split('-')[1].split('.')[0]\n",
    "    speach_words = nltk.corpus.inaugural.words(speach)\n",
    "    if pres not in president:\n",
    "        president.append(pres)\n",
    "        words.append(speach_words)\n",
    "    elif pres in president:\n",
    "        index = president.index(pres)\n",
    "        words[index] = words[index]+speach_words\n",
    "\n",
    "for speach in words:\n",
    "    index = words.index(speach)\n",
    "    print(\"%s used %s unique words\" %(president[index], len(speach)))"
   ]
  },
  {
   "cell_type": "code",
   "execution_count": null,
   "metadata": {
    "collapsed": true
   },
   "outputs": [],
   "source": []
  }
 ],
 "metadata": {
  "anaconda-cloud": {},
  "kernelspec": {
   "display_name": "Python [conda root]",
   "language": "python",
   "name": "conda-root-py"
  },
  "language_info": {
   "codemirror_mode": {
    "name": "ipython",
    "version": 3
   },
   "file_extension": ".py",
   "mimetype": "text/x-python",
   "name": "python",
   "nbconvert_exporter": "python",
   "pygments_lexer": "ipython3",
   "version": "3.5.2"
  }
 },
 "nbformat": 4,
 "nbformat_minor": 1
}
